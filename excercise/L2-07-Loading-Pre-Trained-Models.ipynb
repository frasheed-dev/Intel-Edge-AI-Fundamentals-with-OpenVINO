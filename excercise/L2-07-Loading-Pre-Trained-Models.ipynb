{
 "cells": [
  {
   "cell_type": "markdown",
   "id": "2761897c",
   "metadata": {},
   "source": [
    "<div class=\"alert alert-block alert-danger\">\n",
    "<b>Note:</b> Intel OpenVINO toolkit should be installed and sourced to run the given code\n",
    "</div>\n",
    "\n",
    "# Loading Pre-Trained Models\n",
    "\n",
    "In this exercise, you'll work to download and load a few of the pre-trained models available \n",
    "in the OpenVINO toolkit.\n",
    "\n",
    "First, you can navigate to the [Pre-Trained Models list](https://software.intel.com/en-us/openvino-toolkit/documentation/pretrained-models) in a separate window or tab, as well as the page that gives all of the model names [here](https://docs.openvinotoolkit.org/2019_R3/_models_intel_index.html).\n",
    "\n",
    "Your task here is to download the below three pre-trained models using the Model Downloader tool, as detailed on the same page as the different model names. Note that you *do not need to download all of the available pre-trained models* - doing so would cause your workspace to crash, as the workspace will limit you to 3 GB of downloaded models.\n",
    "\n",
    "### Task 1 - Find the Right Models\n",
    "Using the [Pre-Trained Model list](https://software.intel.com/en-us/openvino-toolkit/documentation/pretrained-models), determine which models could accomplish the following tasks (there may be some room here in determining which model to download):\n",
    "- Human Pose Estimation (**solution:** [human-pose-estimation-0001](https://docs.openvinotoolkit.org/latest/_models_intel_human_pose_estimation_0001_description_human_pose_estimation_0001.html))\n",
    "- Text Detection solution: (**solution:** [text-detection-0004](http://docs.openvinotoolkit.org/latest/_models_intel_text_detection_0004_description_text_detection_0004.html))\n",
    "- Determining Car Type & Color (**solution:** [vehicle-attributes-recognition-barrier-0039](https://docs.openvinotoolkit.org/latest/_models_intel_vehicle_attributes_recognition_barrier_0039_description_vehicle_attributes_recognition_barrier_0039.html))\n",
    "\n",
    "### Task 2 - Download the Models\n",
    "Once you have determined which model best relates to the above tasks, use the Model Downloader tool to download them into the workspace for the following precision levels:\n",
    "- Human Pose Estimation: All precision levels\n",
    "- Text Detection: FP16 only\n",
    "- Determining Car Type & Color: INT8 only\n",
    "\n",
    "**Note**: When downloading the models in the workspace, add the `-o` argument (along with any other necessary arguments) with `/home/workspace` as the output directory. The default download directory will not allow the files to be written there within the workspace, as it is a read-only directory.\n",
    "\n",
    "#### Task 2 - Solution\n",
    "<div class=\"alert alert-block alert-info\">\n",
    "<b>First navigate to model downloaded directory:</b> <br/>\n",
    "&nbsp; &nbsp; <code>cd /opt/intel/openvino/deployment_tools/open_model_zoo/tools/downloader </code>.\n",
    "</div>\n",
    "\n",
    "- Human Pose Estimation: <br/>\n",
    "&nbsp; &nbsp; <code>python downloader.py --name human-pose-estimation-0001 -o /home/workspace</code>\n",
    "- Text Detection: <br/>\n",
    "&nbsp; &nbsp; <code>python downloader.py --name text-detection-0004 --precisions FP16 -o /home/workspace</code>\n",
    "- Determining Car Type & Color: <br/>\n",
    "&nbsp; &nbsp; <code>python downloader.py --name vehicle-attributes-recognition-barrier-0039 --precisions INT8 -o /home/workspace\n",
    "</code>\n",
    "\n",
    "### Task 3 - Verify the Downloads\n",
    "You can verify the download of these models by navigating to: `/home/workspace/intel` (if you followed the above note), and checking whether a directory was created for each of the three models, with included subdirectories for each precision, with respective `.bin` and `.xml` for each model.\n",
    "\n",
    "**Hint**: Use the `-h` command with the Model Downloader tool if you need to check out the possible arguments to include when downloading specific models and precisions.\n",
    "\n",
    "#### Task 3 - Solution\n",
    "<div class=\"alert alert-block alert-info\">\n",
    "<b>Check the directory where models were downloaded:</b> <br/>\n",
    "&nbsp; &nbsp; <code>tree /home/workspace/</code>.\n",
    "</div>\n"
   ]
  }
 ],
 "metadata": {
  "kernelspec": {
   "display_name": "Python 3",
   "language": "python",
   "name": "python3"
  },
  "language_info": {
   "codemirror_mode": {
    "name": "ipython",
    "version": 3
   },
   "file_extension": ".py",
   "mimetype": "text/x-python",
   "name": "python",
   "nbconvert_exporter": "python",
   "pygments_lexer": "ipython3",
   "version": "3.8.12"
  }
 },
 "nbformat": 4,
 "nbformat_minor": 5
}
